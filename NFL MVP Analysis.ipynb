{
 "cells": [
  {
   "cell_type": "markdown",
   "metadata": {},
   "source": [
    "NFL League MVP Analysis by Rory Kavanagh"
   ]
  },
  {
   "cell_type": "markdown",
   "metadata": {},
   "source": [
    "The NFL league MVP is an award given to the player deemed to be the best and most valuable player in a single season. Since its introduction in 1957, 65% of winners have been quarterbacks. In the past 20 years, the game has evolved to passing the ball more often and this can be seen with 80% of the last 20 winners being quarterbacks.\n",
    "\n",
    "This analysis will discover the necessary statistics that quarterbacks must achieve in order to be considered for the award and also show the necessary data science techniques used in order to achieve this analysis."
   ]
  },
  {
   "cell_type": "markdown",
   "metadata": {},
   "source": [
    "The data for this analysis was obtained via the nflgame python library. This is an API that can be used to access player data from 2009 to 2015. In the years from 2009 to 2015, every winner has been a quarterback apart from in 2013 when Adrian Peterson won it for rushing for the 2nd most yards ever in a single season and only 9 yards short of breaking the record itself. \n",
    "\n",
    "The nflgame library was installed on the anaconda distribution and accessed via:"
   ]
  },
  {
   "cell_type": "code",
   "execution_count": 91,
   "metadata": {},
   "outputs": [],
   "source": [
    "import nflgame\n",
    "import pandas as pd\n",
    "import matplotlib\n",
    "import matplotlib.pyplot as plt\n",
    "%matplotlib inline"
   ]
  },
  {
   "cell_type": "markdown",
   "metadata": {},
   "source": [
    "The years of quarterbacks winning the MVP award and the year's respective winners were stored in two lists, years and mvps"
   ]
  },
  {
   "cell_type": "code",
   "execution_count": 92,
   "metadata": {},
   "outputs": [],
   "source": [
    "# Winning years of Quarterback MVPs\n",
    "years = [2009, 2010, 2011, 2013, 2014, 2015]\n",
    "\n",
    "# List of Quarterback MVPs\n",
    "mvps = ['P.Manning', 'T.Brady', 'A.Rodgers',\n",
    "        'P.Manning', 'A.Rodgers', 'C.Newton']"
   ]
  },
  {
   "cell_type": "markdown",
   "metadata": {},
   "source": [
    "The quarterback stats were called using the nflgame API. This was done via a method that returned important stats such as the quarterback's name, team, yards thrown, team, total number of touchdowns, total number of turnovers and their rating. The quarterback rating is a formula devised by the NFL to measure the performance of a quarterback."
   ]
  },
  {
   "cell_type": "code",
   "execution_count": 93,
   "metadata": {},
   "outputs": [],
   "source": [
    "#Calculate QB rating formula (NFL formula)\n",
    "def qbr(cmp, att, yrds, int, tds):\n",
    "    a = ((cmp/att) - 0.3) * 5\n",
    "    b = ((yrds/att) - 3) * 0.25\n",
    "    c = (tds/att) * 20\n",
    "    d = 2.375 - ((int/att) * 25)\n",
    "\n",
    "    a = num_check(a)\n",
    "    b = num_check(b)\n",
    "    c = num_check(c)\n",
    "    d = num_check(d)\n",
    "\n",
    "    rating = ((a+b+c+d)/6) * 100\n",
    "    return rating\n",
    "\n",
    "#Part of NFL QB Rating formula\n",
    "def num_check(num):\n",
    "    if num >= 2.375:\n",
    "        num = 2.375\n",
    "    elif num <= 0:\n",
    "        num = 0\n",
    "    else:\n",
    "        num = num\n",
    "    return num\n",
    "\n",
    "#Retrieve QB stats per year\n",
    "def get_qb_stats(year, players):\n",
    "    #Lists to hold each stat type\n",
    "    names = []\n",
    "    yards = []\n",
    "    rat = []\n",
    "    team = []\n",
    "    total_tds = []\n",
    "    total_turnovers = []\n",
    "\n",
    "    #Calling the API for player stats for a given year\n",
    "    #Retriving QB stats based on QBs with at least 200 passing attempts\n",
    "    passers = players.passing().filter(passing_att=lambda x: x >= 200).sort('passing_yds')\n",
    "\n",
    "    for p in passers:\n",
    "        names.append(p.name)\n",
    "        yards.append(p.passing_yds)\n",
    "        rat.append(qbr(p.passing_cmp, p.passing_att, p.passing_yds, p.passing_ints, p.passing_tds))\n",
    "        team.append(get_team(p.name, players))\n",
    "        total_tds.append(p.passing_tds + p.rushing_tds)\n",
    "        total_turnovers.append(p.passing_ints + p.fumbles_lost)\n",
    "\n",
    "\n",
    "    #Creating the dataframe to add the QB stats to\n",
    "    passing_data = pd.DataFrame({'Player': names, 'Team': team, 'Yards': yards, 'Rating': rat, 'Year': year,\n",
    "                                 'Touchdowns': total_tds, 'Turnovers': total_turnovers})\n",
    "    return passing_data\n",
    "\n",
    "#Method to find which team a player plays for\n",
    "def get_team(qb, players):\n",
    "    player = players.name(qb)\n",
    "    team = player.team\n",
    "    return team"
   ]
  },
  {
   "cell_type": "markdown",
   "metadata": {},
   "source": [
    "Another important statistic that played a big factor in the MVP award was the winning record of the player. Only 1 player has won the MVP award between 2009 and 2015 with their team not having the most wins in their respective conference for the given season. That player was Adrian Peterson and his 2013 season.\n",
    "\n",
    "A method was created to calculate the number of wins and losses per MVP winner per season. "
   ]
  },
  {
   "cell_type": "code",
   "execution_count": 94,
   "metadata": {},
   "outputs": [],
   "source": [
    "# Method to calculate the number of wins per player per season\n",
    "def get_win_record(games, players, mvps):\n",
    "    win_list = []\n",
    "    loss_list = []\n",
    "    team_list = []\n",
    "    qb_list = []\n",
    "\n",
    "    wins = 0\n",
    "    losses = 0\n",
    "\n",
    "    qb_list.append(mvps)\n",
    "    team = get_team(mvps, players)\n",
    "    team_list.append(team)\n",
    "\n",
    "    for g in games:\n",
    "        if g.winner == team:\n",
    "            wins = wins + 1\n",
    "        elif g.loser == team:\n",
    "            losses = losses + 1\n",
    "\n",
    "    win_list.append(wins)\n",
    "    loss_list.append(losses)\n",
    "    win_loss_record = pd.DataFrame({'Player': qb_list, 'Team': team_list,\n",
    "                                    'Wins': win_list, 'Losses': loss_list})\n",
    "    return win_loss_record"
   ]
  },
  {
   "cell_type": "markdown",
   "metadata": {},
   "source": [
    "One of the key metrics in the NFL for measuring success of offences, defenses and players is yards gained or lost. While the explicit yard gain for quarterbacks varies year to year, what is compared year to year is the ranking of most yard per quarterback per year. The get_yards_index method was created to return the ranking of each quarterback's passing yards per season. \n",
    "The same logic was applied in order to get the ranking of the MVP's number of touchdowns and quarterback rating for their winning season."
   ]
  },
  {
   "cell_type": "code",
   "execution_count": 95,
   "metadata": {},
   "outputs": [],
   "source": [
    "def get_index(df, year, mvp, players, search_metric):\n",
    "    index_list = []\n",
    "    qb_list = []\n",
    "    team_list = []\n",
    "    count = 1\n",
    "    if search_metric in df:\n",
    "        df = df.sort_values(by=['Year', search_metric], ascending=[True, False])\n",
    "        metric = (df.loc[(df['Player'] == mvp) & (df['Year'] == year)]).filter(items=[search_metric])\n",
    "        temp_df = (df.loc[(df['Year'] == year)]).filter(items=[search_metric])\n",
    "        for index, row in temp_df.iterrows():\n",
    "            if metric.iloc[0].item() == row.item():\n",
    "                index_list.append(count)\n",
    "                qb_list.append(mvp)\n",
    "                team_list.append(get_team(mvp, players))\n",
    "                break\n",
    "            else:\n",
    "                count = count + 1\n",
    "        metric_df = pd.DataFrame({'Player': qb_list, 'Team': team_list,\n",
    "                                  search_metric + ' Index': index_list})\n",
    "        return metric_df\n",
    "    else:\n",
    "        print('Metric does not exist for ', search_metric)"
   ]
  },
  {
   "cell_type": "markdown",
   "metadata": {},
   "source": [
    "A dataframe is then created to store the information returned from the get_qb_stats method. A number of lists were created to store each of the MVPs statistics for each year. These would later be concatenated into a dataframe once each year's statistics had been collected."
   ]
  },
  {
   "cell_type": "code",
   "execution_count": 96,
   "metadata": {},
   "outputs": [],
   "source": [
    "# Create the dataframe to hold the QB data\n",
    "df = pd.DataFrame()\n",
    "qb_df = []\n",
    "win_record = []\n",
    "yards_index = []\n",
    "rating_index = []\n",
    "td_index = []\n",
    "count = 0"
   ]
  },
  {
   "cell_type": "markdown",
   "metadata": {},
   "source": [
    "The get_qb_stats method is then called for all the years in the years list. A dataframe, df, is used to hold all the raw data pulled from the API. While a list, qb_df, collects each MVP's stats from their winning season. Win_record holds the number of wins per MVP for their winning season. Yard_index holds the ranking of the MVP of passing yards in their winning season. Rating_index holds the ranking of the MVP for their passer rating in their winning season."
   ]
  },
  {
   "cell_type": "code",
   "execution_count": 97,
   "metadata": {},
   "outputs": [],
   "source": [
    "# Collect and store QB data for each year\n",
    "for year in years:\n",
    "    games = nflgame.games(year)\n",
    "    players = nflgame.combine(games)\n",
    "    df = df.append(get_qb_stats(year, players), ignore_index=True)\n",
    "    qb = mvps[count]\n",
    "    stats = df.loc[(df['Player'] == qb) & (df['Year'] == year)]\n",
    "    qb_df.append(stats)\n",
    "    win_record.append(get_win_record(games, players, mvps[count]))\n",
    "    yards_index.append(get_index(df, year, qb, players, 'Yards'))\n",
    "    rating_index.append(get_index(df, year, qb, players, 'Rating'))\n",
    "    td_index.append(get_index(df, year, qb, players, 'Touchdowns'))\n",
    "    count = count + 1\n",
    "df.to_csv('qbstats.csv')"
   ]
  },
  {
   "cell_type": "markdown",
   "metadata": {},
   "source": [
    "A method was also created to concatenate the lists containing each year's MVP stats into a dataframe and set the index to the 'Player' column, which contains the player's name."
   ]
  },
  {
   "cell_type": "code",
   "execution_count": 98,
   "metadata": {},
   "outputs": [],
   "source": [
    "def set_dataframe(dataframe):\n",
    "    dataframe = pd.concat(dataframe)\n",
    "    dataframe.set_index('Player', inplace=True)\n",
    "    return dataframe"
   ]
  },
  {
   "cell_type": "markdown",
   "metadata": {},
   "source": [
    "Once the loop has iterated through all the years, the lists, qb_df, win_record, yards_index and rating_index were concatenated into dataframes so that the data could be analysed and graphed."
   ]
  },
  {
   "cell_type": "code",
   "execution_count": 99,
   "metadata": {},
   "outputs": [],
   "source": [
    "qb_df = set_dataframe(qb_df)\n",
    "win_record = set_dataframe(win_record)\n",
    "yards_index = set_dataframe(yards_index)\n",
    "rating_index = set_dataframe(rating_index)\n",
    "td_index = set_dataframe(td_index)"
   ]
  },
  {
   "cell_type": "markdown",
   "metadata": {},
   "source": [
    "Finally, a method was created to plot the data from the dataframes in order to identify the important markers to be hit in order for a player to be in contention for the MVP award."
   ]
  },
  {
   "cell_type": "code",
   "execution_count": 100,
   "metadata": {},
   "outputs": [],
   "source": [
    "# Method to plot the stats\n",
    "def plot_stats(stats, df, x, y):\n",
    "    colours = ['blue', 'navy', 'green', 'orange', 'green', 'deepskyblue']\n",
    "    if stats in df.columns:\n",
    "        plt.figure()\n",
    "        p = df[stats].plot.bar(color=colours)\n",
    "        p.set_xlabel(x)\n",
    "        p.set_ylabel(y)\n",
    "        title = y + ' per ' + x\n",
    "        p.set_title(title)\n",
    "        plt.tight_layout()\n",
    "        plt.show()\n",
    "    else:\n",
    "        print('Stat does not exist')"
   ]
  },
  {
   "cell_type": "markdown",
   "metadata": {},
   "source": [
    "The first metric that was analysed was the quarterback rating. It was shown that no quarterback who won the MVP award had a quaterback rating of less than 99. The maximum possible value for a quarterback rating is 158.3. It also shows the average quarterback rating amongst all quarterbacks from 2009 to 2015 with a minimum of 200 passing attempts for comparison with the MVP's rating."
   ]
  },
  {
   "cell_type": "code",
   "execution_count": 101,
   "metadata": {},
   "outputs": [
    {
     "data": {
      "image/png": "[encoded data removed]",
      "text/plain": [
       "<matplotlib.figure.Figure at 0x7f3024643630>"
      ]
     },
     "metadata": {},
     "output_type": "display_data"
    },
    {
     "name": "stdout",
     "output_type": "stream",
     "text": [
      "           Rating Index Team\n",
      "Player                      \n",
      "P.Manning             6  IND\n",
      "T.Brady               1   NE\n",
      "A.Rodgers             1   GB\n",
      "P.Manning             2  DEN\n",
      "A.Rodgers             2   GB\n",
      "C.Newton              8  CAR\n",
      "Minimum MVP quarterback rating: 99.2\n",
      "Average Quarterback Rating is:  86.5\n"
     ]
    }
   ],
   "source": [
    "plot_stats('Rating', qb_df, 'Player', 'QB Rating')\n",
    "print(rating_index)\n",
    "print('Minimum MVP quarterback rating:', round(qb_df['Rating'].min(), 1))\n",
    "print('Average Quarterback Rating is: ', round(df['Rating'].mean(), 1))"
   ]
  },
  {
   "cell_type": "markdown",
   "metadata": {},
   "source": [
    "The next metric that was analysed was the yards gained. It can be seen that there quite a wide variety in the absolute value of yards gained per year per quarterback. The ranking of yards gained per quarterback showed a much clearer picture with 5 out of the 6 winners being in the top 8 quarterbacks for passing yards. The outlier in this group is Cam Newton in 2015. The reason for this was that Cam also gained anohter 636 yards running the ball. Cam is known as one of the most athletic quarterbacks in the league and his 2015 showed his dominance, not just throwing the ball, but also running the ball. He led all quarterbacks that year in rushing yards. "
   ]
  },
  {
   "cell_type": "code",
   "execution_count": 102,
   "metadata": {},
   "outputs": [
    {
     "data": {
      "image/png": "[encoded data removed]",
      "text/plain": [
       "<matplotlib.figure.Figure at 0x7f301e847278>"
      ]
     },
     "metadata": {},
     "output_type": "display_data"
    },
    {
     "name": "stdout",
     "output_type": "stream",
     "text": [
      "          Team  Yards Index\n",
      "Player                     \n",
      "P.Manning  IND            2\n",
      "T.Brady     NE            8\n",
      "A.Rodgers   GB            5\n",
      "P.Manning  DEN            1\n",
      "A.Rodgers   GB            7\n",
      "C.Newton   CAR           16\n",
      "Average Yards per Quarterback:  3188.0\n"
     ]
    }
   ],
   "source": [
    "plot_stats('Yards', qb_df, 'Player', 'Total Yards')\n",
    "print(yards_index)\n",
    "print('Average Yards per Quarterback: ', round(df['Yards'].mean(), 1))"
   ]
  },
  {
   "cell_type": "markdown",
   "metadata": {},
   "source": [
    "The next metric measured was total touchdowns scored. It was seen that no MVP winner scored less than 33 touchdowns per season, which is more than an average of 2 touchdowns per game in a 16-game season. It was also seen that each quarterback was in the top 3 ranking for total number of touchdowns scored that season."
   ]
  },
  {
   "cell_type": "code",
   "execution_count": 103,
   "metadata": {},
   "outputs": [
    {
     "data": {
      "image/png": "[encoded data removed]",
      "text/plain": [
       "<matplotlib.figure.Figure at 0x7f3017c5cb00>"
      ]
     },
     "metadata": {},
     "output_type": "display_data"
    },
    {
     "name": "stdout",
     "output_type": "stream",
     "text": [
      "          Team  Touchdowns Index\n",
      "Player                          \n",
      "P.Manning  IND                 3\n",
      "T.Brady     NE                 1\n",
      "A.Rodgers   GB                 1\n",
      "P.Manning  DEN                 1\n",
      "A.Rodgers   GB                 2\n",
      "C.Newton   CAR                 1\n",
      "Average Total Touchdowns per Quarterback is:  21.4\n"
     ]
    }
   ],
   "source": [
    "plot_stats('Touchdowns', qb_df, 'Player', 'Total Touchdowns')\n",
    "print(td_index)\n",
    "print('Average Total Touchdowns per Quarterback is: ', round(df['Touchdowns'].mean(), 1))"
   ]
  },
  {
   "cell_type": "markdown",
   "metadata": {},
   "source": [
    "Lastly, and arguably the most important metric, was total regular season wins. Each quarterback was a on a team that were the 1st or 2nd seeds going into the playoffs per conference. This means that their teams got a bye in the first round of the playoffs which has been shown to be incredibly important to getting to the Superbowl. "
   ]
  },
  {
   "cell_type": "code",
   "execution_count": 104,
   "metadata": {},
   "outputs": [
    {
     "data": {
      "image/png": "[encoded data removed]",
      "text/plain": [
       "<matplotlib.figure.Figure at 0x7f301b5c94a8>"
      ]
     },
     "metadata": {},
     "output_type": "display_data"
    }
   ],
   "source": [
    "plot_stats('Wins', win_record, 'Players', 'Wins')"
   ]
  },
  {
   "cell_type": "markdown",
   "metadata": {},
   "source": [
    "In conclusion, it can be seen that the important factors for quarterbacks in winning the MVP award are:\n",
    "1. Top 3 in number of touchdowns.\n",
    "2. 1st or 2nd seed in playoffs in either conference.\n",
    "3. Top 8 in passing yards\n",
    "4. Passer rating of 99 or higher.\n",
    "\n",
    "In 2016, Matt Ryan won the MVP award with:\n",
    "1. 2nd overall in number of touchdowns with 38.\n",
    "2. 2nd seed in the NFC playoffs with 11 wins.\n",
    "3. 2nd in passing yards.\n",
    "4. Passer rating of 117.2.\n",
    "\n",
    "In 2017, Tom Brady won the MVP award with:\n",
    "1. 3rd overall in number of touchdowns with 32.\n",
    "2. 1st seed in the AFC playoffs with 13 wins.\n",
    "3. 1st in passing yards.\n",
    "4. Passer rating of 102.8.\n",
    "\n",
    "It can be seen that the next two winners of the MVP award are consistent with the model."
   ]
  },
  {
   "cell_type": "markdown",
   "metadata": {},
   "source": []
  }
 ],
 "metadata": {
  "kernelspec": {
   "display_name": "Python 2",
   "language": "python",
   "name": "python2"
  },
  "language_info": {
   "codemirror_mode": {
    "name": "ipython",
    "version": 2
   },
   "file_extension": ".py",
   "mimetype": "text/x-python",
   "name": "python",
   "nbconvert_exporter": "python",
   "pygments_lexer": "ipython2",
   "version": "2.7.15"
  }
 },
 "nbformat": 4,
 "nbformat_minor": 2
}
